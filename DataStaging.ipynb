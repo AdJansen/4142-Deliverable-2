{
 "cells": [
  {
   "cell_type": "code",
   "execution_count": 2,
   "metadata": {},
   "outputs": [],
   "source": [
    "import pandas as pd\n",
    "#import psycopg2\n",
    "#from sqlalchemy import create_engine\n",
    "#from django.conf import settings"
   ]
  },
  {
   "cell_type": "code",
   "execution_count": 21,
   "metadata": {},
   "outputs": [
    {
     "name": "stdout",
     "output_type": "stream",
     "text": [
      "       CountryName                                      IndicatorName  \\\n",
      "28370   Bangladesh       Labor force, female (% of total labor force)   \n",
      "28384   Bangladesh  Maternal leave benefits (% of wages paid in co...   \n",
      "28441   Bangladesh  People practicing open defecation (% of popula...   \n",
      "28456   Bangladesh  People with basic handwashing facilities inclu...   \n",
      "28631   Bangladesh  Share of women employed in the nonagricultural...   \n",
      "...            ...                                                ...   \n",
      "114892     Vietnam  People with basic handwashing facilities inclu...   \n",
      "115067     Vietnam  Share of women employed in the nonagricultural...   \n",
      "115086     Vietnam     Unemployment, female (% of female labor force)   \n",
      "115087     Vietnam         Unemployment, male (% of male labor force)   \n",
      "115088     Vietnam       Unemployment, total (% of total labor force)   \n",
      "\n",
      "             2005       2006       2007       2008        2009       2010  \\\n",
      "28370   24.136214  24.256677  24.735315  25.225694   25.717267  26.204068   \n",
      "28384         NaN        NaN        NaN        NaN  100.000000        NaN   \n",
      "28441   11.819757  10.855291   9.901515   8.958819    8.027558   7.107842   \n",
      "28456   19.960526  20.184063  20.411389  20.642186   20.876142  24.420050   \n",
      "28631   20.100000        NaN        NaN        NaN         NaN  18.300000   \n",
      "...           ...        ...        ...        ...         ...        ...   \n",
      "114892  85.026912  85.089634  85.153289  85.217766   85.283279  85.350960   \n",
      "115067        NaN        NaN        NaN        NaN         NaN        NaN   \n",
      "115086   2.263000   2.123000   1.932000   1.795000    1.579000   1.074000   \n",
      "115087   1.937000   2.052000   2.122000   2.050000    1.889000   1.143000   \n",
      "115088   2.095000   2.087000   2.030000   1.927000    1.740000   1.110000   \n",
      "\n",
      "              2011       2012        2013       2014        2015       2016  \\\n",
      "28370    26.673749  27.138532   27.603431  28.072726   28.553975  29.054784   \n",
      "28384   100.000000        NaN  100.000000        NaN  100.000000        NaN   \n",
      "28441     6.200095   5.304841    4.422388   3.552649    2.695839   1.851918   \n",
      "28456    27.939898  31.433841   34.900634  38.340903   41.753598  45.139101   \n",
      "28631          NaN        NaN         NaN        NaN         NaN        NaN   \n",
      "...            ...        ...         ...        ...         ...        ...   \n",
      "114892   85.419473  85.488912   85.558867  85.629751   85.701464  85.773903   \n",
      "115067         NaN  40.600000   41.100000        NaN         NaN        NaN   \n",
      "115086    0.901000   0.931000    1.143000   1.109000    1.709000   1.699000   \n",
      "115087    1.091000   1.121000    1.484000   1.399000    1.979000   1.989000   \n",
      "115088    1.000000   1.030000    1.320000   1.260000    1.850000   1.850000   \n",
      "\n",
      "              2017       2018       2019       2020  \n",
      "28370    30.659746  30.786758  30.874584  30.232871  \n",
      "28384   100.000000        NaN        NaN        NaN  \n",
      "28441     1.020961   0.220963   0.000000   0.000000  \n",
      "28456    48.496959  51.827020  55.129331  58.403954  \n",
      "28631          NaN        NaN        NaN        NaN  \n",
      "...            ...        ...        ...        ...  \n",
      "114892   85.846544  85.919497  85.992759  86.066332  \n",
      "115067         NaN        NaN        NaN        NaN  \n",
      "115086    1.698000   1.029000   2.008000   2.819000  \n",
      "115087    2.027000   1.278000   2.068000   2.002000  \n",
      "115088    1.870000   1.160000   2.040000   2.390000  \n",
      "\n",
      "[64 rows x 18 columns]\n"
     ]
    }
   ],
   "source": [
    "qualityOfLife_df = pd.read_csv(r'./World bank data/HNP_StatsData.csv')\n",
    "qualityOfLife_dfCopy = qualityOfLife_df.copy()\n",
    "qualityOfLife_dfCopy = qualityOfLife_dfCopy.rename(columns={'Country Name': 'CountryName', 'Indicator Name': 'IndicatorName'})\n",
    "qualityOfLife_dfCopy = qualityOfLife_dfCopy.drop(qualityOfLife_dfCopy[(qualityOfLife_dfCopy.CountryName != \"Canada\") &\n",
    "                                                                      (qualityOfLife_dfCopy.CountryName != \"United States\") & \n",
    "                                                                      (qualityOfLife_dfCopy.CountryName != \"Mexico\") &\n",
    "                                                                     ( qualityOfLife_dfCopy.CountryName != \"Mauritius\") &\n",
    "                                                                      (qualityOfLife_dfCopy.CountryName != \"Liberia\") &\n",
    "                                                                      (qualityOfLife_dfCopy.CountryName != \"Dem. Rep. Congo\") &\n",
    "                                                                      (qualityOfLife_dfCopy.CountryName != \"Vietnam\") &\n",
    "                                                                      (qualityOfLife_dfCopy.CountryName != \"Nepal\") &\n",
    "                                                                      (qualityOfLife_dfCopy.CountryName != \"Bangladesh\") \n",
    "                                                                      ].index)\n",
    "                                \n",
    "qualityOfLife_dfCopy = qualityOfLife_dfCopy.drop(qualityOfLife_dfCopy[(qualityOfLife_dfCopy.IndicatorName != \"People practicing open defecation (% of population)\") &\n",
    "                                                                      (qualityOfLife_dfCopy.IndicatorName != \"People using at least basic sanitation services(% of population)\") & \n",
    "                                                                      (qualityOfLife_dfCopy.IndicatorName != \"People using safely managed sanitation services(% of population)\") &\n",
    "                                                                     ( qualityOfLife_dfCopy.IndicatorName != \"People using at least basic drinking water services(% of population)\") &\n",
    "                                                                      (qualityOfLife_dfCopy.IndicatorName != \"People using safely managed drinking water services(% of populion)\") &\n",
    "                                                                      (qualityOfLife_dfCopy.IndicatorName != \"People with basic handwashing facilities including soap and water (% of population)\") &\n",
    "                                                                      (qualityOfLife_dfCopy.IndicatorName != \"Labor force, female (% of total labor force)\") &\n",
    "                                                                      (qualityOfLife_dfCopy.IndicatorName != \"Share of women employed in the nonagricultural sector (% of total nonagricultural employment)\") &\n",
    "                                                                      (qualityOfLife_dfCopy.IndicatorName != \"Unemployment, male (% of male labor force)\") &\n",
    "                                                                      (qualityOfLife_dfCopy.IndicatorName != \"Unemployment, female (% of female labor force)\") &\n",
    "                                                                      (qualityOfLife_dfCopy.IndicatorName != \"Unemployment, total (% of total labor force)\") &\n",
    "                                                                      (qualityOfLife_dfCopy.IndicatorName != \"Maternal leave benefits (% of wages paid in covered period)\") \n",
    "                                                                      ].index)\n",
    "                                                                      \n",
    "\n",
    "qualityOfLife_dfCopy = qualityOfLife_dfCopy.drop(['1960', '1961', '1962', '1963', '1964',\n",
    "       '1965', '1966', '1967', '1968', '1969', '1970', '1971', '1972', '1973',\n",
    "       '1974', '1975', '1976', '1977', '1978', '1979', '1980', '1981', '1982',\n",
    "       '1983', '1984', '1985', '1986', '1987', '1988', '1989', '1990', '1991',\n",
    "       '1992', '1993', '1994', '1995', '1996', '1997', '1998', '1999', '2000',\n",
    "       '2001', '2002', '2003', '2004', 'Country Code', 'Indicator Code', 'Unnamed: 66', '2021'], axis=1)\n",
    "print(qualityOfLife_dfCopy)\n"
   ]
  },
  {
   "cell_type": "code",
   "execution_count": null,
   "metadata": {},
   "outputs": [],
   "source": []
  }
 ],
 "metadata": {
  "interpreter": {
   "hash": "788a9351e229a1f65c4d9cf9924529127c78ef3c3ebb580c0b2cfc8f86cef849"
  },
  "kernelspec": {
   "display_name": "Python 3.10.2 32-bit",
   "language": "python",
   "name": "python3"
  },
  "language_info": {
   "codemirror_mode": {
    "name": "ipython",
    "version": 3
   },
   "file_extension": ".py",
   "mimetype": "text/x-python",
   "name": "python",
   "nbconvert_exporter": "python",
   "pygments_lexer": "ipython3",
   "version": "3.8.12"
  },
  "orig_nbformat": 4
 },
 "nbformat": 4,
 "nbformat_minor": 2
}
