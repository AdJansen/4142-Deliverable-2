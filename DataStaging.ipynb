{
 "cells": [
  {
   "cell_type": "code",
   "execution_count": 3,
   "metadata": {},
   "outputs": [],
   "source": [
    "import pandas as pd\n",
    "#import psycopg2\n",
    "#from sqlalchemy import create_engine\n",
    "#from django.conf import settings"
   ]
  },
  {
   "cell_type": "code",
   "execution_count": 22,
   "metadata": {},
   "outputs": [
    {
     "ename": "KeyError",
     "evalue": "1",
     "output_type": "error",
     "traceback": [
      "\u001b[1;31m---------------------------------------------------------------------------\u001b[0m",
      "\u001b[1;31mKeyError\u001b[0m                                  Traceback (most recent call last)",
      "\u001b[1;32m~\\anaconda3\\envs\\csi4106\\lib\\site-packages\\pandas\\core\\indexes\\base.py\u001b[0m in \u001b[0;36mget_loc\u001b[1;34m(self, key, method, tolerance)\u001b[0m\n\u001b[0;32m   3360\u001b[0m             \u001b[1;32mtry\u001b[0m\u001b[1;33m:\u001b[0m\u001b[1;33m\u001b[0m\u001b[1;33m\u001b[0m\u001b[0m\n\u001b[1;32m-> 3361\u001b[1;33m                 \u001b[1;32mreturn\u001b[0m \u001b[0mself\u001b[0m\u001b[1;33m.\u001b[0m\u001b[0m_engine\u001b[0m\u001b[1;33m.\u001b[0m\u001b[0mget_loc\u001b[0m\u001b[1;33m(\u001b[0m\u001b[0mcasted_key\u001b[0m\u001b[1;33m)\u001b[0m\u001b[1;33m\u001b[0m\u001b[1;33m\u001b[0m\u001b[0m\n\u001b[0m\u001b[0;32m   3362\u001b[0m             \u001b[1;32mexcept\u001b[0m \u001b[0mKeyError\u001b[0m \u001b[1;32mas\u001b[0m \u001b[0merr\u001b[0m\u001b[1;33m:\u001b[0m\u001b[1;33m\u001b[0m\u001b[1;33m\u001b[0m\u001b[0m\n",
      "\u001b[1;32m~\\anaconda3\\envs\\csi4106\\lib\\site-packages\\pandas\\_libs\\index.pyx\u001b[0m in \u001b[0;36mpandas._libs.index.IndexEngine.get_loc\u001b[1;34m()\u001b[0m\n",
      "\u001b[1;32m~\\anaconda3\\envs\\csi4106\\lib\\site-packages\\pandas\\_libs\\index.pyx\u001b[0m in \u001b[0;36mpandas._libs.index.IndexEngine.get_loc\u001b[1;34m()\u001b[0m\n",
      "\u001b[1;32mpandas\\_libs\\hashtable_class_helper.pxi\u001b[0m in \u001b[0;36mpandas._libs.hashtable.PyObjectHashTable.get_item\u001b[1;34m()\u001b[0m\n",
      "\u001b[1;32mpandas\\_libs\\hashtable_class_helper.pxi\u001b[0m in \u001b[0;36mpandas._libs.hashtable.PyObjectHashTable.get_item\u001b[1;34m()\u001b[0m\n",
      "\u001b[1;31mKeyError\u001b[0m: 1",
      "\nThe above exception was the direct cause of the following exception:\n",
      "\u001b[1;31mKeyError\u001b[0m                                  Traceback (most recent call last)",
      "\u001b[1;32m~\\AppData\\Local\\Temp/ipykernel_8100/4150547452.py\u001b[0m in \u001b[0;36m<module>\u001b[1;34m\u001b[0m\n\u001b[0;32m     37\u001b[0m \u001b[0mcol1\u001b[0m \u001b[1;33m=\u001b[0m \u001b[0mcol1\u001b[0m\u001b[1;33m.\u001b[0m\u001b[0mdrop\u001b[0m\u001b[1;33m(\u001b[0m\u001b[1;33m[\u001b[0m\u001b[1;34m\"CountryName\"\u001b[0m\u001b[1;33m,\u001b[0m \u001b[1;34m\"IndicatorName\"\u001b[0m\u001b[1;33m]\u001b[0m\u001b[1;33m,\u001b[0m \u001b[0maxis\u001b[0m\u001b[1;33m=\u001b[0m\u001b[1;36m1\u001b[0m\u001b[1;33m)\u001b[0m\u001b[1;33m\u001b[0m\u001b[1;33m\u001b[0m\u001b[0m\n\u001b[0;32m     38\u001b[0m \u001b[0mcol1\u001b[0m\u001b[1;33m.\u001b[0m\u001b[0mto_numpy\u001b[0m\u001b[1;33m(\u001b[0m\u001b[1;33m)\u001b[0m\u001b[1;33m\u001b[0m\u001b[1;33m\u001b[0m\u001b[0m\n\u001b[1;32m---> 39\u001b[1;33m \u001b[0mprint\u001b[0m\u001b[1;33m(\u001b[0m\u001b[0mcol1\u001b[0m\u001b[1;33m[\u001b[0m\u001b[1;36m1\u001b[0m\u001b[1;33m]\u001b[0m\u001b[1;33m)\u001b[0m\u001b[1;33m\u001b[0m\u001b[1;33m\u001b[0m\u001b[0m\n\u001b[0m\u001b[0;32m     40\u001b[0m \u001b[1;31m#dataCanada = {'People practicing open defecation (% of population)':['Canada', 'United States', 'Mexico', 'Mauritius', 'Liberia', 'Dem. Rep. Congo', 'Vietnam', 'Nepal', 'Bangladesh'],\u001b[0m\u001b[1;33m\u001b[0m\u001b[1;33m\u001b[0m\u001b[1;33m\u001b[0m\u001b[0m\n\u001b[0;32m     41\u001b[0m               \u001b[1;31m#'year':['2005', '2006', '2007', '2008', '2009', '2010', '2011', '2012', '2013', '2014', '2015', '2016', '2016', '2016', '2016', '2016']}\u001b[0m\u001b[1;33m\u001b[0m\u001b[1;33m\u001b[0m\u001b[1;33m\u001b[0m\u001b[0m\n",
      "\u001b[1;32m~\\anaconda3\\envs\\csi4106\\lib\\site-packages\\pandas\\core\\frame.py\u001b[0m in \u001b[0;36m__getitem__\u001b[1;34m(self, key)\u001b[0m\n\u001b[0;32m   3456\u001b[0m             \u001b[1;32mif\u001b[0m \u001b[0mself\u001b[0m\u001b[1;33m.\u001b[0m\u001b[0mcolumns\u001b[0m\u001b[1;33m.\u001b[0m\u001b[0mnlevels\u001b[0m \u001b[1;33m>\u001b[0m \u001b[1;36m1\u001b[0m\u001b[1;33m:\u001b[0m\u001b[1;33m\u001b[0m\u001b[1;33m\u001b[0m\u001b[0m\n\u001b[0;32m   3457\u001b[0m                 \u001b[1;32mreturn\u001b[0m \u001b[0mself\u001b[0m\u001b[1;33m.\u001b[0m\u001b[0m_getitem_multilevel\u001b[0m\u001b[1;33m(\u001b[0m\u001b[0mkey\u001b[0m\u001b[1;33m)\u001b[0m\u001b[1;33m\u001b[0m\u001b[1;33m\u001b[0m\u001b[0m\n\u001b[1;32m-> 3458\u001b[1;33m             \u001b[0mindexer\u001b[0m \u001b[1;33m=\u001b[0m \u001b[0mself\u001b[0m\u001b[1;33m.\u001b[0m\u001b[0mcolumns\u001b[0m\u001b[1;33m.\u001b[0m\u001b[0mget_loc\u001b[0m\u001b[1;33m(\u001b[0m\u001b[0mkey\u001b[0m\u001b[1;33m)\u001b[0m\u001b[1;33m\u001b[0m\u001b[1;33m\u001b[0m\u001b[0m\n\u001b[0m\u001b[0;32m   3459\u001b[0m             \u001b[1;32mif\u001b[0m \u001b[0mis_integer\u001b[0m\u001b[1;33m(\u001b[0m\u001b[0mindexer\u001b[0m\u001b[1;33m)\u001b[0m\u001b[1;33m:\u001b[0m\u001b[1;33m\u001b[0m\u001b[1;33m\u001b[0m\u001b[0m\n\u001b[0;32m   3460\u001b[0m                 \u001b[0mindexer\u001b[0m \u001b[1;33m=\u001b[0m \u001b[1;33m[\u001b[0m\u001b[0mindexer\u001b[0m\u001b[1;33m]\u001b[0m\u001b[1;33m\u001b[0m\u001b[1;33m\u001b[0m\u001b[0m\n",
      "\u001b[1;32m~\\anaconda3\\envs\\csi4106\\lib\\site-packages\\pandas\\core\\indexes\\base.py\u001b[0m in \u001b[0;36mget_loc\u001b[1;34m(self, key, method, tolerance)\u001b[0m\n\u001b[0;32m   3361\u001b[0m                 \u001b[1;32mreturn\u001b[0m \u001b[0mself\u001b[0m\u001b[1;33m.\u001b[0m\u001b[0m_engine\u001b[0m\u001b[1;33m.\u001b[0m\u001b[0mget_loc\u001b[0m\u001b[1;33m(\u001b[0m\u001b[0mcasted_key\u001b[0m\u001b[1;33m)\u001b[0m\u001b[1;33m\u001b[0m\u001b[1;33m\u001b[0m\u001b[0m\n\u001b[0;32m   3362\u001b[0m             \u001b[1;32mexcept\u001b[0m \u001b[0mKeyError\u001b[0m \u001b[1;32mas\u001b[0m \u001b[0merr\u001b[0m\u001b[1;33m:\u001b[0m\u001b[1;33m\u001b[0m\u001b[1;33m\u001b[0m\u001b[0m\n\u001b[1;32m-> 3363\u001b[1;33m                 \u001b[1;32mraise\u001b[0m \u001b[0mKeyError\u001b[0m\u001b[1;33m(\u001b[0m\u001b[0mkey\u001b[0m\u001b[1;33m)\u001b[0m \u001b[1;32mfrom\u001b[0m \u001b[0merr\u001b[0m\u001b[1;33m\u001b[0m\u001b[1;33m\u001b[0m\u001b[0m\n\u001b[0m\u001b[0;32m   3364\u001b[0m \u001b[1;33m\u001b[0m\u001b[0m\n\u001b[0;32m   3365\u001b[0m         \u001b[1;32mif\u001b[0m \u001b[0mis_scalar\u001b[0m\u001b[1;33m(\u001b[0m\u001b[0mkey\u001b[0m\u001b[1;33m)\u001b[0m \u001b[1;32mand\u001b[0m \u001b[0misna\u001b[0m\u001b[1;33m(\u001b[0m\u001b[0mkey\u001b[0m\u001b[1;33m)\u001b[0m \u001b[1;32mand\u001b[0m \u001b[1;32mnot\u001b[0m \u001b[0mself\u001b[0m\u001b[1;33m.\u001b[0m\u001b[0mhasnans\u001b[0m\u001b[1;33m:\u001b[0m\u001b[1;33m\u001b[0m\u001b[1;33m\u001b[0m\u001b[0m\n",
      "\u001b[1;31mKeyError\u001b[0m: 1"
     ]
    }
   ],
   "source": [
    "qualityOfLife_df = pd.read_csv(r'./World bank data/HNP_StatsData.csv')\n",
    "qualityOfLife_dfCopy = qualityOfLife_df.copy()\n",
    "qualityOfLife_dfCopy = qualityOfLife_dfCopy.rename(columns={'Country Name': 'CountryName', 'Indicator Name': 'IndicatorName'})\n",
    "qualityOfLife_dfCopy = qualityOfLife_dfCopy.drop(qualityOfLife_dfCopy[(qualityOfLife_dfCopy.CountryName != \"Canada\") &\n",
    "                                                                      (qualityOfLife_dfCopy.CountryName != \"United States\") & \n",
    "                                                                      (qualityOfLife_dfCopy.CountryName != \"Mexico\") &\n",
    "                                                                     ( qualityOfLife_dfCopy.CountryName != \"Mauritius\") &\n",
    "                                                                      (qualityOfLife_dfCopy.CountryName != \"Liberia\") &\n",
    "                                                                      (qualityOfLife_dfCopy.CountryName != \"Dem. Rep. Congo\") &\n",
    "                                                                      (qualityOfLife_dfCopy.CountryName != \"Vietnam\") &\n",
    "                                                                      (qualityOfLife_dfCopy.CountryName != \"Nepal\") &\n",
    "                                                                      (qualityOfLife_dfCopy.CountryName != \"Bangladesh\") \n",
    "                                                                      ].index)\n",
    "                                \n",
    "qualityOfLife_dfCopy = qualityOfLife_dfCopy.drop(qualityOfLife_dfCopy[(qualityOfLife_dfCopy.IndicatorName != \"People practicing open defecation (% of population)\") &\n",
    "                                                                      (qualityOfLife_dfCopy.IndicatorName != \"People using at least basic sanitation services(% of population)\") & \n",
    "                                                                      (qualityOfLife_dfCopy.IndicatorName != \"People using safely managed sanitation services(% of population)\") &\n",
    "                                                                     ( qualityOfLife_dfCopy.IndicatorName != \"People using at least basic drinking water services(% of population)\") &\n",
    "                                                                      (qualityOfLife_dfCopy.IndicatorName != \"People using safely managed drinking water services(% of populion)\") &\n",
    "                                                                      (qualityOfLife_dfCopy.IndicatorName != \"People with basic handwashing facilities including soap and water (% of population)\") &\n",
    "                                                                      (qualityOfLife_dfCopy.IndicatorName != \"Labor force, female (% of total labor force)\") &\n",
    "                                                                      (qualityOfLife_dfCopy.IndicatorName != \"Share of women employed in the nonagricultural sector (% of total nonagricultural employment)\") &\n",
    "                                                                      (qualityOfLife_dfCopy.IndicatorName != \"Unemployment, male (% of male labor force)\") &\n",
    "                                                                      (qualityOfLife_dfCopy.IndicatorName != \"Unemployment, female (% of female labor force)\") &\n",
    "                                                                      (qualityOfLife_dfCopy.IndicatorName != \"Unemployment, total (% of total labor force)\") &\n",
    "                                                                      (qualityOfLife_dfCopy.IndicatorName != \"Maternal leave benefits (% of wages paid in covered period)\") \n",
    "                                                                      ].index)\n",
    "                                                                      \n",
    "\n",
    "qualityOfLife_dfCopy = qualityOfLife_dfCopy.drop(['1960', '1961', '1962', '1963', '1964',\n",
    "       '1965', '1966', '1967', '1968', '1969', '1970', '1971', '1972', '1973',\n",
    "       '1974', '1975', '1976', '1977', '1978', '1979', '1980', '1981', '1982',\n",
    "       '1983', '1984', '1985', '1986', '1987', '1988', '1989', '1990', '1991',\n",
    "       '1992', '1993', '1994', '1995', '1996', '1997', '1998', '1999', '2000',\n",
    "       '2001', '2002', '2003', '2004', 'Country Code', 'Indicator Code', 'Unnamed: 66', '2021'], axis=1)\n",
    "col1 = qualityOfLife_dfCopy.loc[(qualityOfLife_dfCopy['CountryName'] == 'Canada') & (qualityOfLife_dfCopy['IndicatorName'] == \"People practicing open defecation (% of population)\")]\n",
    "col1 = col1.drop([\"CountryName\", \"IndicatorName\"], axis=1)\n",
    "col1.to_numpy()\n",
    "print(col1[1])\n",
    "#dataCanada = {'People practicing open defecation (% of population)':['Canada', 'United States', 'Mexico', 'Mauritius', 'Liberia', 'Dem. Rep. Congo', 'Vietnam', 'Nepal', 'Bangladesh'],\n",
    "              #'year':['2005', '2006', '2007', '2008', '2009', '2010', '2011', '2012', '2013', '2014', '2015', '2016', '2016', '2016', '2016', '2016']}\n",
    " \n",
    " #Create DataFrame\n",
    "#df = pd.DataFrame(data)\n"
   ]
  },
  {
   "cell_type": "code",
   "execution_count": null,
   "metadata": {},
   "outputs": [],
   "source": []
  }
 ],
 "metadata": {
  "interpreter": {
   "hash": "788a9351e229a1f65c4d9cf9924529127c78ef3c3ebb580c0b2cfc8f86cef849"
  },
  "kernelspec": {
   "display_name": "Python 3.10.2 32-bit",
   "language": "python",
   "name": "python3"
  },
  "language_info": {
   "codemirror_mode": {
    "name": "ipython",
    "version": 3
   },
   "file_extension": ".py",
   "mimetype": "text/x-python",
   "name": "python",
   "nbconvert_exporter": "python",
   "pygments_lexer": "ipython3",
   "version": "3.8.12"
  },
  "orig_nbformat": 4
 },
 "nbformat": 4,
 "nbformat_minor": 2
}
