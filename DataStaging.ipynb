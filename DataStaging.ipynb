{
 "cells": [
  {
   "cell_type": "code",
   "execution_count": 73,
   "metadata": {},
   "outputs": [],
   "source": [
    "import pandas as pd\n",
    "#import psycopg2\n",
    "#from sqlalchemy import create_engine\n",
    "#from django.conf import settings"
   ]
  },
  {
   "cell_type": "code",
   "execution_count": 91,
   "metadata": {},
   "outputs": [
    {
     "name": "stdout",
     "output_type": "stream",
     "text": [
      "Int64Index([37190, 37204, 37261, 37264, 37267, 37270, 37273, 37276, 37451,\n",
      "            37470, 37471, 37472],\n",
      "           dtype='int64')\n",
      "Int64Index([112601, 112615, 112672, 112675, 112678, 112681, 112684, 112687,\n",
      "            112862, 112881, 112882, 112883],\n",
      "           dtype='int64')\n",
      "Int64Index([77762, 77776, 77833, 77836, 77839, 77842, 77845, 77848, 78023,\n",
      "            78042, 78043, 78044],\n",
      "           dtype='int64')\n",
      "Int64Index([77321, 77335, 77392, 77395, 77398, 77401, 77404, 77407, 77582,\n",
      "            77601, 77602, 77603],\n",
      "           dtype='int64')\n",
      "Int64Index([71147, 71161, 71218, 71221, 71224, 71227, 71230, 71233, 71408,\n",
      "            71427, 71428, 71429],\n",
      "           dtype='int64')\n",
      "Int64Index([], dtype='int64')\n"
     ]
    },
    {
     "ename": "IndexError",
     "evalue": "single positional indexer is out-of-bounds",
     "output_type": "error",
     "traceback": [
      "\u001b[1;31m---------------------------------------------------------------------------\u001b[0m",
      "\u001b[1;31mIndexError\u001b[0m                                Traceback (most recent call last)",
      "\u001b[1;32m~\\AppData\\Local\\Temp/ipykernel_8820/4054628782.py\u001b[0m in \u001b[0;36m<module>\u001b[1;34m\u001b[0m\n\u001b[0;32m     45\u001b[0m        \u001b[0mprint\u001b[0m \u001b[1;33m(\u001b[0m\u001b[0mneededData1\u001b[0m\u001b[1;33m.\u001b[0m\u001b[0mindex\u001b[0m\u001b[1;33m)\u001b[0m\u001b[1;33m\u001b[0m\u001b[1;33m\u001b[0m\u001b[0m\n\u001b[0;32m     46\u001b[0m \u001b[1;33m\u001b[0m\u001b[0m\n\u001b[1;32m---> 47\u001b[1;33m        \u001b[0mrow1\u001b[0m \u001b[1;33m=\u001b[0m \u001b[0mneededData1\u001b[0m\u001b[1;33m.\u001b[0m\u001b[0miloc\u001b[0m\u001b[1;33m[\u001b[0m\u001b[1;36m1\u001b[0m\u001b[1;33m]\u001b[0m\u001b[1;33m.\u001b[0m\u001b[0mvalues\u001b[0m\u001b[1;33m[\u001b[0m\u001b[1;36m0\u001b[0m\u001b[1;33m]\u001b[0m\u001b[1;33m\u001b[0m\u001b[1;33m\u001b[0m\u001b[0m\n\u001b[0m\u001b[0;32m     48\u001b[0m        \u001b[0mrow2\u001b[0m \u001b[1;33m=\u001b[0m \u001b[0mneededData1\u001b[0m\u001b[1;33m.\u001b[0m\u001b[0miloc\u001b[0m\u001b[1;33m[\u001b[0m\u001b[1;36m1\u001b[0m\u001b[1;33m]\u001b[0m\u001b[1;33m.\u001b[0m\u001b[0mvalues\u001b[0m\u001b[1;33m[\u001b[0m\u001b[1;36m1\u001b[0m\u001b[1;33m]\u001b[0m\u001b[1;33m\u001b[0m\u001b[1;33m\u001b[0m\u001b[0m\n\u001b[0;32m     49\u001b[0m        \u001b[0mrow3\u001b[0m \u001b[1;33m=\u001b[0m \u001b[0mneededData1\u001b[0m\u001b[1;33m.\u001b[0m\u001b[0miloc\u001b[0m\u001b[1;33m[\u001b[0m\u001b[1;36m2\u001b[0m\u001b[1;33m]\u001b[0m\u001b[1;33m.\u001b[0m\u001b[0mvalues\u001b[0m\u001b[1;33m[\u001b[0m\u001b[1;36m2\u001b[0m\u001b[1;33m]\u001b[0m\u001b[1;33m\u001b[0m\u001b[1;33m\u001b[0m\u001b[0m\n",
      "\u001b[1;32m~\\anaconda3\\envs\\csi4106\\lib\\site-packages\\pandas\\core\\indexing.py\u001b[0m in \u001b[0;36m__getitem__\u001b[1;34m(self, key)\u001b[0m\n\u001b[0;32m    929\u001b[0m \u001b[1;33m\u001b[0m\u001b[0m\n\u001b[0;32m    930\u001b[0m             \u001b[0mmaybe_callable\u001b[0m \u001b[1;33m=\u001b[0m \u001b[0mcom\u001b[0m\u001b[1;33m.\u001b[0m\u001b[0mapply_if_callable\u001b[0m\u001b[1;33m(\u001b[0m\u001b[0mkey\u001b[0m\u001b[1;33m,\u001b[0m \u001b[0mself\u001b[0m\u001b[1;33m.\u001b[0m\u001b[0mobj\u001b[0m\u001b[1;33m)\u001b[0m\u001b[1;33m\u001b[0m\u001b[1;33m\u001b[0m\u001b[0m\n\u001b[1;32m--> 931\u001b[1;33m             \u001b[1;32mreturn\u001b[0m \u001b[0mself\u001b[0m\u001b[1;33m.\u001b[0m\u001b[0m_getitem_axis\u001b[0m\u001b[1;33m(\u001b[0m\u001b[0mmaybe_callable\u001b[0m\u001b[1;33m,\u001b[0m \u001b[0maxis\u001b[0m\u001b[1;33m=\u001b[0m\u001b[0maxis\u001b[0m\u001b[1;33m)\u001b[0m\u001b[1;33m\u001b[0m\u001b[1;33m\u001b[0m\u001b[0m\n\u001b[0m\u001b[0;32m    932\u001b[0m \u001b[1;33m\u001b[0m\u001b[0m\n\u001b[0;32m    933\u001b[0m     \u001b[1;32mdef\u001b[0m \u001b[0m_is_scalar_access\u001b[0m\u001b[1;33m(\u001b[0m\u001b[0mself\u001b[0m\u001b[1;33m,\u001b[0m \u001b[0mkey\u001b[0m\u001b[1;33m:\u001b[0m \u001b[0mtuple\u001b[0m\u001b[1;33m)\u001b[0m\u001b[1;33m:\u001b[0m\u001b[1;33m\u001b[0m\u001b[1;33m\u001b[0m\u001b[0m\n",
      "\u001b[1;32m~\\anaconda3\\envs\\csi4106\\lib\\site-packages\\pandas\\core\\indexing.py\u001b[0m in \u001b[0;36m_getitem_axis\u001b[1;34m(self, key, axis)\u001b[0m\n\u001b[0;32m   1564\u001b[0m \u001b[1;33m\u001b[0m\u001b[0m\n\u001b[0;32m   1565\u001b[0m             \u001b[1;31m# validate the location\u001b[0m\u001b[1;33m\u001b[0m\u001b[1;33m\u001b[0m\u001b[1;33m\u001b[0m\u001b[0m\n\u001b[1;32m-> 1566\u001b[1;33m             \u001b[0mself\u001b[0m\u001b[1;33m.\u001b[0m\u001b[0m_validate_integer\u001b[0m\u001b[1;33m(\u001b[0m\u001b[0mkey\u001b[0m\u001b[1;33m,\u001b[0m \u001b[0maxis\u001b[0m\u001b[1;33m)\u001b[0m\u001b[1;33m\u001b[0m\u001b[1;33m\u001b[0m\u001b[0m\n\u001b[0m\u001b[0;32m   1567\u001b[0m \u001b[1;33m\u001b[0m\u001b[0m\n\u001b[0;32m   1568\u001b[0m             \u001b[1;32mreturn\u001b[0m \u001b[0mself\u001b[0m\u001b[1;33m.\u001b[0m\u001b[0mobj\u001b[0m\u001b[1;33m.\u001b[0m\u001b[0m_ixs\u001b[0m\u001b[1;33m(\u001b[0m\u001b[0mkey\u001b[0m\u001b[1;33m,\u001b[0m \u001b[0maxis\u001b[0m\u001b[1;33m=\u001b[0m\u001b[0maxis\u001b[0m\u001b[1;33m)\u001b[0m\u001b[1;33m\u001b[0m\u001b[1;33m\u001b[0m\u001b[0m\n",
      "\u001b[1;32m~\\anaconda3\\envs\\csi4106\\lib\\site-packages\\pandas\\core\\indexing.py\u001b[0m in \u001b[0;36m_validate_integer\u001b[1;34m(self, key, axis)\u001b[0m\n\u001b[0;32m   1498\u001b[0m         \u001b[0mlen_axis\u001b[0m \u001b[1;33m=\u001b[0m \u001b[0mlen\u001b[0m\u001b[1;33m(\u001b[0m\u001b[0mself\u001b[0m\u001b[1;33m.\u001b[0m\u001b[0mobj\u001b[0m\u001b[1;33m.\u001b[0m\u001b[0m_get_axis\u001b[0m\u001b[1;33m(\u001b[0m\u001b[0maxis\u001b[0m\u001b[1;33m)\u001b[0m\u001b[1;33m)\u001b[0m\u001b[1;33m\u001b[0m\u001b[1;33m\u001b[0m\u001b[0m\n\u001b[0;32m   1499\u001b[0m         \u001b[1;32mif\u001b[0m \u001b[0mkey\u001b[0m \u001b[1;33m>=\u001b[0m \u001b[0mlen_axis\u001b[0m \u001b[1;32mor\u001b[0m \u001b[0mkey\u001b[0m \u001b[1;33m<\u001b[0m \u001b[1;33m-\u001b[0m\u001b[0mlen_axis\u001b[0m\u001b[1;33m:\u001b[0m\u001b[1;33m\u001b[0m\u001b[1;33m\u001b[0m\u001b[0m\n\u001b[1;32m-> 1500\u001b[1;33m             \u001b[1;32mraise\u001b[0m \u001b[0mIndexError\u001b[0m\u001b[1;33m(\u001b[0m\u001b[1;34m\"single positional indexer is out-of-bounds\"\u001b[0m\u001b[1;33m)\u001b[0m\u001b[1;33m\u001b[0m\u001b[1;33m\u001b[0m\u001b[0m\n\u001b[0m\u001b[0;32m   1501\u001b[0m \u001b[1;33m\u001b[0m\u001b[0m\n\u001b[0;32m   1502\u001b[0m     \u001b[1;31m# -------------------------------------------------------------------\u001b[0m\u001b[1;33m\u001b[0m\u001b[1;33m\u001b[0m\u001b[1;33m\u001b[0m\u001b[0m\n",
      "\u001b[1;31mIndexError\u001b[0m: single positional indexer is out-of-bounds"
     ]
    }
   ],
   "source": [
    "qualityOfLife_df = pd.read_csv(r'./World bank data/HNP_StatsData.csv')\n",
    "qualityOfLife_dfCopy = qualityOfLife_df.copy()\n",
    "qualityOfLife_dfCopy = qualityOfLife_dfCopy.rename(columns={'Country Name': 'CountryName', 'Indicator Name': 'IndicatorName'})\n",
    "qualityOfLife_dfCopy = qualityOfLife_dfCopy.drop(qualityOfLife_dfCopy[(qualityOfLife_dfCopy.CountryName != \"Canada\") &\n",
    "                                                                      (qualityOfLife_dfCopy.CountryName != \"United States\") & \n",
    "                                                                      (qualityOfLife_dfCopy.CountryName != \"Mexico\") &\n",
    "                                                                     ( qualityOfLife_dfCopy.CountryName != \"Mauritius\") &\n",
    "                                                                      (qualityOfLife_dfCopy.CountryName != \"Liberia\") &\n",
    "                                                                      (qualityOfLife_dfCopy.CountryName != \"Dem. Rep. Congo\") &\n",
    "                                                                      (qualityOfLife_dfCopy.CountryName != \"Vietnam\") &\n",
    "                                                                      (qualityOfLife_dfCopy.CountryName != \"Nepal\") &\n",
    "                                                                      (qualityOfLife_dfCopy.CountryName != \"Bangladesh\") \n",
    "                                                                      ].index)\n",
    "                                \n",
    "qualityOfLife_dfCopy = qualityOfLife_dfCopy.drop(qualityOfLife_dfCopy[(qualityOfLife_dfCopy.IndicatorName != \"People practicing open defecation (% of population)\") &\n",
    "                                                                      (qualityOfLife_dfCopy.IndicatorName != \"People using at least basic sanitation services (% of population)\") & \n",
    "                                                                      (qualityOfLife_dfCopy.IndicatorName != \"People using safely managed sanitation services (% of population)\") &\n",
    "                                                                     ( qualityOfLife_dfCopy.IndicatorName != \"People using at least basic drinking water services (% of population)\") &\n",
    "                                                                      (qualityOfLife_dfCopy.IndicatorName != \"People using safely managed drinking water services (% of population)\") &\n",
    "                                                                      (qualityOfLife_dfCopy.IndicatorName != \"People with basic handwashing facilities including soap and water (% of population)\") &\n",
    "                                                                      (qualityOfLife_dfCopy.IndicatorName != \"Labor force, female (% of total labor force)\") &\n",
    "                                                                      (qualityOfLife_dfCopy.IndicatorName != \"Share of women employed in the nonagricultural sector (% of total nonagricultural employment)\") &\n",
    "                                                                      (qualityOfLife_dfCopy.IndicatorName != \"Unemployment, male (% of male labor force)\") &\n",
    "                                                                      (qualityOfLife_dfCopy.IndicatorName != \"Unemployment, female (% of female labor force)\") &\n",
    "                                                                      (qualityOfLife_dfCopy.IndicatorName != \"Unemployment, total (% of total labor force)\") &\n",
    "                                                                      (qualityOfLife_dfCopy.IndicatorName != \"Maternal leave benefits (% of wages paid in covered period)\") \n",
    "                                                                      ].index)\n",
    "                                                                      \n",
    "\n",
    "qualityOfLife_dfCopy = qualityOfLife_dfCopy.drop(['1960', '1961', '1962', '1963', '1964',\n",
    "       '1965', '1966', '1967', '1968', '1969', '1970', '1971', '1972', '1973',\n",
    "       '1974', '1975', '1976', '1977', '1978', '1979', '1980', '1981', '1982',\n",
    "       '1983', '1984', '1985', '1986', '1987', '1988', '1989', '1990', '1991',\n",
    "       '1992', '1993', '1994', '1995', '1996', '1997', '1998', '1999', '2000',\n",
    "       '2001', '2002', '2003', '2004', 'Country Code', 'Indicator Code', 'Unnamed: 66', '2021'], axis=1)\n",
    "df = pd.DataFrame()\n",
    "\n",
    "countrys = [\"Canada\", \"United States\", \"Mexico\", \"Mauritius\", \"Liberia\", \"Dem. Rep. Congo\", \"Vietnam\", \"Nepal\", \"Bangladesh\"]\n",
    "for x in range(len(countrys)):\n",
    "       neededData = qualityOfLife_dfCopy.loc[(qualityOfLife_dfCopy['CountryName'] == countrys[x])]\n",
    "                                             \n",
    "\n",
    "      \n",
    "       neededData1 = neededData.drop([\"IndicatorName\", \"CountryName\"], axis=1)\n",
    "       print (neededData1.index)\n",
    "      \n",
    "       row1 = neededData1.iloc[1].values[0]\n",
    "       row2 = neededData1.iloc[1].values[1]\n",
    "       row3 = neededData1.iloc[2].values[2]\n",
    "       row4 = neededData1.iloc[3].values[3]\n",
    "       row5 = neededData1.iloc[4].values[4]\n",
    "       row6 = neededData1.iloc[5].values[5]\n",
    "       row7 = neededData1.iloc[6].values[6]\n",
    "       row8 = neededData1.iloc[7].values[7]\n",
    "       row9 = neededData1.iloc[8].values[8]\n",
    "       row10 = neededData1.iloc[9].values[9]\n",
    "       row11 = neededData1.iloc[10].values[10]\n",
    "       row12 = neededData1.iloc[11].values[11]\n",
    "     \n",
    "\n",
    "       country = [countrys[x]] * 16\n",
    "       year = ['2005', '2006', '2007', '2008', '2009', '2010', '2011', '2012', '2013', '2014', '2015', '2016', '2017', '2018', '2019', '2020']\n",
    "       data = {'Country':country,\n",
    "               'year':year,\n",
    "               'People practicing open defecation (% of population)':row1,\n",
    "               \"People using at least basic sanitation services(% of population)\":row2,\n",
    "               \"People using safely managed sanitation services(% of population)\":row3,\n",
    "               \"People using at least basic drinking water services(% of population)\":row4,\n",
    "               \"People using safely managed drinking water services(% of populion)\":row5,\n",
    "               \"People with basic handwashing facilities including soap and water (% of population)\":row6,\n",
    "               \"Labor force, female (% of total labor force)\":row7,\n",
    "               \"Share of women employed in the nonagricultural sector (% of total nonagricultural employment)\":row8,\n",
    "               \"Unemployment, male (% of male labor force)\":row9,\n",
    "               \"Unemployment, female (% of female labor force)\":row10,\n",
    "               \"Unemployment, total (% of total labor force)\":row11,\n",
    "               \"Maternal leave benefits (% of wages paid in covered period)\":row12,\n",
    "              }\n",
    " \n",
    "       #Create DataFrame\n",
    "       holderDF = pd.DataFrame(data)\n",
    "       df.append(holderDF, ignore_index=True)"
   ]
  },
  {
   "cell_type": "code",
   "execution_count": null,
   "metadata": {},
   "outputs": [],
   "source": [
    "(qualityOfLife_dfCopy['IndicatorName'] == \"People using at least basic sanitation services(% of population)\")&\n",
    "                                             (qualityOfLife_dfCopy['IndicatorName'] == \"People using safely managed sanitation services(% of population)\")&\n",
    "                                             (qualityOfLife_dfCopy['IndicatorName'] == \"People using at least basic drinking water services(% of population)\")&\n",
    "                                             (qualityOfLife_dfCopy['IndicatorName'] == \"People using safely managed drinking water services(% of populion)\")&\n",
    "                                             (qualityOfLife_dfCopy['IndicatorName'] == \"People with basic handwashing facilities including soap and water (% of population)\")&\n",
    "                                             (qualityOfLife_dfCopy['IndicatorName'] == \"Labor force, female (% of total labor force)\")&\n",
    "                                             (qualityOfLife_dfCopy['IndicatorName'] == \"Share of women employed in the nonagricultural sector (% of total nonagricultural employment)\")&\n",
    "                                             (qualityOfLife_dfCopy['IndicatorName'] == \"Unemployment, male (% of male labor force)\")&\n",
    "                                             (qualityOfLife_dfCopy['IndicatorName'] == \"Unemployment, female (% of female labor force)\")&\n",
    "                                             (qualityOfLife_dfCopy['IndicatorName'] == \"Unemployment, total (% of total labor force)\")&\n",
    "                                             (qualityOfLife_dfCopy['IndicatorName'] == \"Maternal leave benefits (% of wages paid in covered period)\")  "
   ]
  }
 ],
 "metadata": {
  "interpreter": {
   "hash": "788a9351e229a1f65c4d9cf9924529127c78ef3c3ebb580c0b2cfc8f86cef849"
  },
  "kernelspec": {
   "display_name": "Python 3.10.2 32-bit",
   "language": "python",
   "name": "python3"
  },
  "language_info": {
   "codemirror_mode": {
    "name": "ipython",
    "version": 3
   },
   "file_extension": ".py",
   "mimetype": "text/x-python",
   "name": "python",
   "nbconvert_exporter": "python",
   "pygments_lexer": "ipython3",
   "version": "3.8.12"
  },
  "orig_nbformat": 4
 },
 "nbformat": 4,
 "nbformat_minor": 2
}
